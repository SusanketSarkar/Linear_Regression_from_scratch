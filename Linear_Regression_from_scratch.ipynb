{
  "nbformat": 4,
  "nbformat_minor": 0,
  "metadata": {
    "colab": {
      "name": "Copy of 02-my-Linear Regression",
      "provenance": [],
      "collapsed_sections": []
    },
    "kernelspec": {
      "name": "python3",
      "display_name": "Python 3"
    },
    "language_info": {
      "name": "python"
    }
  },
  "cells": [
    {
      "cell_type": "markdown",
      "metadata": {
        "id": "II7-5MO0ehDI"
      },
      "source": [
        "# **Linear Regression**\n",
        "\n",
        "\n",
        "---\n",
        "\n"
      ]
    },
    {
      "cell_type": "code",
      "metadata": {
        "id": "okn_qn75eMbU"
      },
      "source": [
        "# Importing important libraries\n",
        "import pandas as pd\n",
        "import numpy as np\n",
        "import matplotlib.pyplot as plt\n",
        "import random\n",
        "from sklearn.model_selection import train_test_split as splt\n",
        "from sklearn.metrics import mean_squared_error "
      ],
      "execution_count": null,
      "outputs": []
    },
    {
      "cell_type": "markdown",
      "metadata": {
        "id": "BJda5Qk2exsm"
      },
      "source": [
        "Part 01: Reading the Data "
      ]
    },
    {
      "cell_type": "code",
      "metadata": {
        "id": "y9p6hppjfVK9"
      },
      "source": [
        "# Reading the data\n",
        "data = pd.read_csv('/content/LR_Basics.csv')"
      ],
      "execution_count": null,
      "outputs": []
    },
    {
      "cell_type": "code",
      "metadata": {
        "colab": {
          "base_uri": "https://localhost:8080/",
          "height": 423
        },
        "id": "8WYOgOh7f0PM",
        "outputId": "946ca536-4321-4b14-e7fc-ffe56f24afc0"
      },
      "source": [
        "# Looking at the data \n",
        "data"
      ],
      "execution_count": null,
      "outputs": [
        {
          "output_type": "execute_result",
          "data": {
            "text/html": [
              "<div>\n",
              "<style scoped>\n",
              "    .dataframe tbody tr th:only-of-type {\n",
              "        vertical-align: middle;\n",
              "    }\n",
              "\n",
              "    .dataframe tbody tr th {\n",
              "        vertical-align: top;\n",
              "    }\n",
              "\n",
              "    .dataframe thead th {\n",
              "        text-align: right;\n",
              "    }\n",
              "</style>\n",
              "<table border=\"1\" class=\"dataframe\">\n",
              "  <thead>\n",
              "    <tr style=\"text-align: right;\">\n",
              "      <th></th>\n",
              "      <th>x</th>\n",
              "      <th>y</th>\n",
              "    </tr>\n",
              "  </thead>\n",
              "  <tbody>\n",
              "    <tr>\n",
              "      <th>0</th>\n",
              "      <td>77</td>\n",
              "      <td>79.775152</td>\n",
              "    </tr>\n",
              "    <tr>\n",
              "      <th>1</th>\n",
              "      <td>21</td>\n",
              "      <td>23.177279</td>\n",
              "    </tr>\n",
              "    <tr>\n",
              "      <th>2</th>\n",
              "      <td>22</td>\n",
              "      <td>25.609262</td>\n",
              "    </tr>\n",
              "    <tr>\n",
              "      <th>3</th>\n",
              "      <td>20</td>\n",
              "      <td>17.857388</td>\n",
              "    </tr>\n",
              "    <tr>\n",
              "      <th>4</th>\n",
              "      <td>36</td>\n",
              "      <td>41.849864</td>\n",
              "    </tr>\n",
              "    <tr>\n",
              "      <th>...</th>\n",
              "      <td>...</td>\n",
              "      <td>...</td>\n",
              "    </tr>\n",
              "    <tr>\n",
              "      <th>295</th>\n",
              "      <td>71</td>\n",
              "      <td>68.545888</td>\n",
              "    </tr>\n",
              "    <tr>\n",
              "      <th>296</th>\n",
              "      <td>46</td>\n",
              "      <td>47.334876</td>\n",
              "    </tr>\n",
              "    <tr>\n",
              "      <th>297</th>\n",
              "      <td>55</td>\n",
              "      <td>54.090637</td>\n",
              "    </tr>\n",
              "    <tr>\n",
              "      <th>298</th>\n",
              "      <td>62</td>\n",
              "      <td>63.297171</td>\n",
              "    </tr>\n",
              "    <tr>\n",
              "      <th>299</th>\n",
              "      <td>47</td>\n",
              "      <td>52.459467</td>\n",
              "    </tr>\n",
              "  </tbody>\n",
              "</table>\n",
              "<p>300 rows × 2 columns</p>\n",
              "</div>"
            ],
            "text/plain": [
              "      x          y\n",
              "0    77  79.775152\n",
              "1    21  23.177279\n",
              "2    22  25.609262\n",
              "3    20  17.857388\n",
              "4    36  41.849864\n",
              "..   ..        ...\n",
              "295  71  68.545888\n",
              "296  46  47.334876\n",
              "297  55  54.090637\n",
              "298  62  63.297171\n",
              "299  47  52.459467\n",
              "\n",
              "[300 rows x 2 columns]"
            ]
          },
          "metadata": {},
          "execution_count": 4
        }
      ]
    },
    {
      "cell_type": "markdown",
      "metadata": {
        "id": "0tg2_W0ef_48"
      },
      "source": [
        "Part 02: Visualizing the data"
      ]
    },
    {
      "cell_type": "code",
      "metadata": {
        "colab": {
          "base_uri": "https://localhost:8080/",
          "height": 265
        },
        "id": "ndYAsZSPgD7M",
        "outputId": "bc7dd251-0dff-401f-f7db-dc90c1bcbf03"
      },
      "source": [
        "x = data['x']\n",
        "y = data['y']\n",
        "plt.scatter(x,y,color='black',s=10)\n",
        "plt.show()"
      ],
      "execution_count": null,
      "outputs": [
        {
          "output_type": "display_data",
          "data": {
            "image/png": "[encoded data removed]",
            "text/plain": [
              "<Figure size 432x288 with 1 Axes>"
            ]
          },
          "metadata": {
            "needs_background": "light"
          }
        }
      ]
    },
    {
      "cell_type": "markdown",
      "metadata": {
        "id": "USQv0q7Khozc"
      },
      "source": [
        "Part 03: Dividing the data"
      ]
    },
    {
      "cell_type": "code",
      "metadata": {
        "id": "cYenH3QPhoas"
      },
      "source": [
        "# Dividing the data\n",
        "xtr,xte,ytr,yte = splt(x,y,test_size=0.2,random_state=1)"
      ],
      "execution_count": null,
      "outputs": []
    },
    {
      "cell_type": "markdown",
      "metadata": {
        "id": "HFdq6X_al0-S"
      },
      "source": [
        "Part 04: Gradient descent"
      ]
    },
    {
      "cell_type": "code",
      "metadata": {
        "id": "w5u1DEJekslw"
      },
      "source": [
        "# Function to display Linear Regression using GD\n",
        "# Input: x test, y test, lr learniing rate\n",
        "# Output: a value for W and b\n",
        "def Linear_Reg_GD (x, y, lr = 0.002,epoch =100):\n",
        "    idx = x.index\n",
        "    w = 1\n",
        "    b = 1\n",
        "    m = sum(list(y))\n",
        "    for i in range(epoch):\n",
        "        J1 = J0 = 0\n",
        "        for j in range(len(y)):\n",
        "            a = x.iloc[j]\n",
        "            c = y.iloc[j]\n",
        "            y_hat = w*a + b\n",
        "            #print('iusd',y_hat,c)\n",
        "            J1 += a*(y_hat-c)\n",
        "            J0 += (y_hat-c)\n",
        "        w = w - J1*(lr/m)\n",
        "        #print(w,b)\n",
        "        b = b - J0*(lr/m)\n",
        "    return w, b"
      ],
      "execution_count": null,
      "outputs": []
    },
    {
      "cell_type": "code",
      "metadata": {
        "colab": {
          "base_uri": "https://localhost:8080/"
        },
        "id": "z8eKQ4dZqroN",
        "outputId": "192de7d8-56f2-4c48-e56c-dd2dd95c6c71"
      },
      "source": [
        "# Finding the coefficients\n",
        "W,b  = Linear_Reg_GD(xtr,ytr)\n",
        "print(W,b)"
      ],
      "execution_count": null,
      "outputs": [
        {
          "output_type": "stream",
          "name": "stdout",
          "text": [
            "0.9914827561606401 0.9983178955566695\n"
          ]
        }
      ]
    },
    {
      "cell_type": "code",
      "metadata": {
        "colab": {
          "base_uri": "https://localhost:8080/",
          "height": 265
        },
        "id": "3auTy7MtxBZH",
        "outputId": "f678d79d-e8b4-4be1-cefe-30f50df72b0b"
      },
      "source": [
        "# Visualizing the results:\n",
        "x = data['x']\n",
        "y = data['y']\n",
        "plt.scatter(x,y,color='black',s=10)\n",
        "x1 = np.linspace(0,100)\n",
        "y1 = W*x1+b\n",
        "plt.plot(x1,y1,'r')\n",
        "plt.show()"
      ],
      "execution_count": null,
      "outputs": [
        {
          "output_type": "display_data",
          "data": {
            "image/png": "[encoded data removed]",
            "text/plain": [
              "<Figure size 432x288 with 1 Axes>"
            ]
          },
          "metadata": {
            "needs_background": "light"
          }
        }
      ]
    },
    {
      "cell_type": "markdown",
      "metadata": {
        "id": "uaiWrNC7rPKU"
      },
      "source": [
        "Part 05: SGD"
      ]
    },
    {
      "cell_type": "code",
      "metadata": {
        "id": "pAMeBsdtriLy"
      },
      "source": [
        "# Defining a customized random function:\n",
        "# Inputs: a lower bound, b upper bound, i = True whether integer, d = True whether decimal\n",
        "# Output; A random number \n",
        "def randomnum (a, b, i = False, d = False, k = None):\n",
        "    if i == True:\n",
        "        return int(((random.randrange(0,10)/10)*(b-a))+a)\n",
        "    else: return (((random.randrange(0,10**k)/10**k)*(b-a))+a)"
      ],
      "execution_count": null,
      "outputs": []
    },
    {
      "cell_type": "code",
      "metadata": {
        "id": "zVV6usQbt-34"
      },
      "source": [
        "# Defining function that performs stochastic grad descent\n",
        "# Input: a,b,lr,epoch\n",
        "# Output: w and b\n",
        "def Linear_Reg_SGD(x,y,lr=0.02,epoch=100):\n",
        "    idx = x.index\n",
        "    w,b = randomnum(0,10,d=True,k=2),randomnum(0,10,d=True,k=2)\n",
        "    m = len(y)\n",
        "    for i in range(epoch):\n",
        "        j = randomnum(0,len(y)-1,i=True)\n",
        "        a = x.iloc[j]\n",
        "        c = y.iloc[j]\n",
        "        y_hat = w*a + b\n",
        "        J1 = a*(y_hat-c)\n",
        "        J0 = (y_hat-c)\n",
        "        w = w - J1*(lr/m)\n",
        "        b = b - J0*(lr/m)\n",
        "    return w,b"
      ],
      "execution_count": null,
      "outputs": []
    },
    {
      "cell_type": "code",
      "metadata": {
        "colab": {
          "base_uri": "https://localhost:8080/"
        },
        "id": "PBoe75BJwFo3",
        "outputId": "d5141550-511f-43c7-8a77-665d0d0ef88d"
      },
      "source": [
        "# Finding the coefficients\n",
        "W,b  = Linear_Reg_SGD(xtr,ytr)\n",
        "print(W,b)"
      ],
      "execution_count": null,
      "outputs": [
        {
          "output_type": "stream",
          "name": "stdout",
          "text": [
            "0.901306303642302 7.274455670329624\n"
          ]
        }
      ]
    },
    {
      "cell_type": "code",
      "metadata": {
        "colab": {
          "base_uri": "https://localhost:8080/",
          "height": 265
        },
        "id": "DZqWkQixxueO",
        "outputId": "b95ba9cd-9eee-4e50-f0b9-d876558d4e8c"
      },
      "source": [
        "# Visualizing the results:\n",
        "x = data['x']\n",
        "y = data['y']\n",
        "plt.scatter(x,y,color='black',s=10)\n",
        "x1 = np.linspace(0,100)\n",
        "y1 = W*x1+b\n",
        "plt.plot(x1,y1,'r')\n",
        "plt.show()"
      ],
      "execution_count": null,
      "outputs": [
        {
          "output_type": "display_data",
          "data": {
            "image/png": "[encoded data removed]",
            "text/plain": [
              "<Figure size 432x288 with 1 Axes>"
            ]
          },
          "metadata": {
            "needs_background": "light"
          }
        }
      ]
    },
    {
      "cell_type": "markdown",
      "metadata": {
        "id": "FmAgPpdPzEUl"
      },
      "source": [
        "Part 06: Mini Batch Gradient Descent"
      ]
    },
    {
      "cell_type": "code",
      "metadata": {
        "id": "RCGxGyBJzEBm"
      },
      "source": [
        "# Defining a function that gives MBGD\n",
        "# Input: x,y,mbs(minibatch size),lr,epoch\n",
        "# Output: w and b\n",
        "def Linear_Reg_MBGD (x, y, mbs = 5, lr = 0.002,epoch =100):\n",
        "    idx = x.index\n",
        "    w,b = randomnum(0,10,d=True,k=2),randomnum(0,10,d=True,k=2)\n",
        "    m = sum(list(y))\n",
        "    for i in range(epoch):\n",
        "        J1 = J0 = 0\n",
        "        for j in range(mbs):\n",
        "            j = randomnum(0,len(y)-1,i=True)\n",
        "            a = x.iloc[j]\n",
        "            c = y.iloc[j]\n",
        "            y_hat = w*a + b\n",
        "            J1 += a*(y_hat-c)\n",
        "            J0 += (y_hat-c)\n",
        "        w = w - J1*(lr/m)\n",
        "        b = b - J0*(lr/m)\n",
        "    return w, b"
      ],
      "execution_count": null,
      "outputs": []
    },
    {
      "cell_type": "code",
      "metadata": {
        "colab": {
          "base_uri": "https://localhost:8080/"
        },
        "id": "BfWrMpcC0EiV",
        "outputId": "0de976e6-1bb2-4bd8-c935-7665d67f3735"
      },
      "source": [
        "# Finding the coefficients\n",
        "W,b  = Linear_Reg_MBGD(xtr,ytr,mbs=100)\n",
        "print(W,b)"
      ],
      "execution_count": null,
      "outputs": [
        {
          "output_type": "stream",
          "name": "stdout",
          "text": [
            "1.0085044846418947 1.0162075189651871\n"
          ]
        }
      ]
    },
    {
      "cell_type": "code",
      "metadata": {
        "colab": {
          "base_uri": "https://localhost:8080/",
          "height": 265
        },
        "id": "LuNFE-_V0HHK",
        "outputId": "f38c799d-24ee-4252-c820-a352efda73e3"
      },
      "source": [
        "# Visualizing the results:\n",
        "x = data['x']\n",
        "y = data['y']\n",
        "plt.scatter(x,y,color='black',s=10)\n",
        "x1 = np.linspace(0,100)\n",
        "y1 = W*x1+b\n",
        "plt.plot(x1,y1,'r')\n",
        "plt.show()"
      ],
      "execution_count": null,
      "outputs": [
        {
          "output_type": "display_data",
          "data": {
            "image/png": "[encoded data removed]",
            "text/plain": [
              "<Figure size 432x288 with 1 Axes>"
            ]
          },
          "metadata": {
            "needs_background": "light"
          }
        }
      ]
    },
    {
      "cell_type": "markdown",
      "metadata": {
        "id": "yvDwhcgG02ec"
      },
      "source": [
        "\n",
        "\n",
        "---\n",
        "\n"
      ]
    }
  ]
}